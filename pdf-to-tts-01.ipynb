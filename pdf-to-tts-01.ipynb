{
 "cells": [
  {
   "cell_type": "markdown",
   "metadata": {},
   "source": [
    "# Using OpenAI's TTS-01 model to turn a PDF into spoken audio"
   ]
  },
  {
   "cell_type": "markdown",
   "metadata": {},
   "source": [
    "## Module and API set-up"
   ]
  },
  {
   "cell_type": "markdown",
   "metadata": {},
   "source": [
    "To use the TTS-01 model, we must point the OpenAI API to use our personal API key. \n",
    "\n",
    "In order to use this repo, you must have a valid API key that is referenced as an environment variable.\n",
    "\n",
    "For more information, visit [OpenAI's developer quickstart guide](https://platform.openai.com/docs/quickstart/developer-quickstart)"
   ]
  },
  {
   "cell_type": "code",
   "execution_count": 3,
   "metadata": {},
   "outputs": [],
   "source": [
    "import pymupdf \n",
    "from openai import OpenAI, OpenAIError\n",
    "from pathlib import Path \n",
    "import os\n",
    "import re\n",
    "\n",
    "os.environ.get(\"OPENAI_API_KEY\")\n",
    "client = OpenAI()"
   ]
  },
  {
   "cell_type": "markdown",
   "metadata": {},
   "source": [
    "## PDF extraction and sanitation"
   ]
  },
  {
   "cell_type": "markdown",
   "metadata": {},
   "source": [
    "Scanned/image-based PDF's require Optical Character Recognition in order to handle the text in a PDF. \n",
    "\n",
    "We can use pymupdf to open the given file via the pymupdf.open(), then iteratively perform OCR extraction on each page via page.get_text()."
   ]
  },
  {
   "cell_type": "code",
   "execution_count": 17,
   "metadata": {},
   "outputs": [
    {
     "name": "stdout",
     "output_type": "stream",
     "text": [
      "Lorem ipsum dolor sit amet, consectetur adipiscing elit. Suspendisse non sem sem. Aenean sit amet bibendum sem. Nunc\n",
      "placerat placerat scelerisque. Integer bibendum ligula odio, consequat consectetur arcu faucibus id. Maecenas bibendum est\n",
      "augue, in molestie purus porttitor commodo. Orci varius natoque penatibus et magnis dis parturient montes, nascetur\n",
      "ridiculus mus. Donec gravida lectus massa, a malesuada turpis pulvinar id. Phasellus gravida semper mi, quis semper nunc\n",
      "porta eu. Vestibulum nec blandit mi, vitae suscipit sapien. Ut auctor consequat libero, quis malesuada diam tincidunt quis.\n",
      "Pellentesque vulputate ex venenatis lorem rhoncus tempus. In faucibus nisl augue. Ut diam turpis, fermentum sit amet\n",
      "finibus iaculis, luctus eu velit\n"
     ]
    }
   ],
   "source": [
    "def scrape_pdf(path):\n",
    "    corpus = \"\"\n",
    "    doc = pymupdf.open(path)\n",
    "    for page in doc:\n",
    "        corpus += page.get_text()\n",
    "    \n",
    "    print(corpus[0:750]) #truncated for readability \n",
    "\n",
    "scrape_pdf(\"tts-test.pdf\")"
   ]
  },
  {
   "cell_type": "markdown",
   "metadata": {},
   "source": [
    "As seen in the output, the text has been extracted with no lost or incorrect characters.\n",
    "\n",
    "However, this is not always the case. Given the nature of PDFs, is not guaranteed that OCR operations will be perfect, especially on scanned documents.\n",
    "\n",
    "If we were to convert this text output into audio, all characters, even incorrect ones, will be 'read' by the model, resulting in poor audio transcribing.\n",
    "\n",
    "We can demonstrate this by performing an OCR operation on a scanned textbook.<br>\n",
    "The output has broken characters and inconsistent line breaks."
   ]
  },
  {
   "cell_type": "code",
   "execution_count": 28,
   "metadata": {},
   "outputs": [
    {
     "name": "stdout",
     "output_type": "stream",
     "text": [
      "Individuals \n",
      "Is Politics Really \n",
      "About People? \n",
      "Barrie Axford \n",
      "Introduction \n",
      "In the Introduction to this volume we learned that the concepts and ideas \n",
      "which are at the heart of political study are themselves intellectual battle-\n",
      "grounds. Key terms like 'power' and 'freedom' are linguistic and often moral \n",
      "minefields over which the student of politics has to pass with great care, and it \n",
      "is easy to confuse or else conflate the normative with the empirical, or to \n",
      "transgress seeming rules about the basis of scientific inquiry. So in the study of \n",
      "policies \n",
      "very little can be taken for granted, and this caveat extends to what we \n",
      "study and how we study it. \n",
      "In this chapter we will begin our examination of the nature of political \n",
      "inquiry and the scope and content of politics by looking at the place of the \n",
      "individual in political life. The term 'individual' is in common use, so much \n",
      "so that we tend to take its meaning for 'granted. We are all individuals in the \n",
      "sense that we are single human animals, but while this is a necessary starting \n",
      "point for analysis, it is not sufficient t~ explain the importance of the concept \n",
      "in much political and social science. The idea of the individ\n"
     ]
    }
   ],
   "source": [
    "def scrape_pdf(path):\n",
    "    corpus = \"\"\n",
    "    doc = pymupdf.open(path)\n",
    "    for page in doc:\n",
    "        corpus += page.get_text()\n",
    "    print(corpus[0:1200]) #truncated for readability \n",
    "    return corpus\n",
    "\n",
    "corpus = scrape_pdf(\"scanned-tts-test.pdf\")"
   ]
  },
  {
   "cell_type": "markdown",
   "metadata": {},
   "source": [
    "The text output can be sanitised using Regex. Whilst this will not fully fix the broken characters such as \"t~\", the audio output will be far more natural sounding. \n",
    "\n",
    "- The first regex expression removes standalone whole numbers, which removes page numbers, numbered captions etc..\n",
    "- The second expression removes lines that have TOC references, such as Contents and Chapter\n",
    "- Third expression removes whitespace (ensures natural sounding flow) and non alphanumeric characters \n",
    "- Fourth and fifth expressions collapses multiple consecutive whitespace characters (eg, paragraph breaks) to prevent unnatural and choppy transcription\n",
    "- Last expression ensures that there is a full stop followed by a space between a lowercase letter and an uppercase letter to offset lost punctuation from the OCR process"
   ]
  },
  {
   "cell_type": "code",
   "execution_count": 25,
   "metadata": {},
   "outputs": [],
   "source": [
    "def clean_tts(text):\n",
    "    text = re.sub(r'\\b\\d+\\b', '', text)\n",
    "    text = re.sub(r'\\b(CONTENTS|Chapter|Section)\\b.*?\\n', '', text, flags=re.IGNORECASE)\n",
    "    text = re.sub(r'[^\\w\\s.,!?-]', ' ', text)\n",
    "    text = re.sub(r'\\s+', ' ', text)\n",
    "    text = text.strip()\n",
    "    text = '. '.join(sentence.capitalize() for sentence in text.split('. '))\n",
    "    text = re.sub(r'([a-z])\\s([A-Z])', r'\\1. \\2', text)\n",
    "    return text"
   ]
  },
  {
   "cell_type": "code",
   "execution_count": 32,
   "metadata": {},
   "outputs": [
    {
     "name": "stdout",
     "output_type": "stream",
     "text": [
      "Individuals is politics really about people? barrie axford introduction in the introduction to this volume we learned that the concepts and ideas which are at the heart of political study are themselves intellectual battle- grounds. Key terms like power and freedom are linguistic and often moral minefields over which the student of politics has to pass with great care, and it is easy to confuse or else conflate the normative with the empirical, or to transgress seeming rules about the basis of s\n"
     ]
    }
   ],
   "source": [
    "print(clean_tts(corpus)[0:500])"
   ]
  },
  {
   "cell_type": "markdown",
   "metadata": {},
   "source": [
    "## TTS generation"
   ]
  },
  {
   "cell_type": "markdown",
   "metadata": {},
   "source": [
    "OpenAI's Audio API has a audio endpoint that returns the TTS audio data. \n",
    "\n",
    "We can call the endpoint via [OpenAI's TTS documentation](https://platform.openai.com/docs/guides/text-to-speech/overview)."
   ]
  },
  {
   "cell_type": "code",
   "execution_count": null,
   "metadata": {},
   "outputs": [],
   "source": [
    "def tts(oai_model, oai_voice, oai_input):\n",
    "    speech_file_path = Path(__file__).parent / \"speech.wav\"\n",
    "    try:\n",
    "        response = client.audio.speech.create(\n",
    "            model=oai_model,\n",
    "            voice=oai_voice,\n",
    "            input=oai_input\n",
    "        )   \n",
    "        response.stream_to_file(speech_file_path)\n",
    "        return True\n",
    "    except OpenAIError as e:\n",
    "        print(f\"Error: An API error occurred: {str(e)}\")\n",
    "    except Exception as e:\n",
    "        print(f\"Error: An unexpected error occurred: {str(e)}\")\n",
    "    return False"
   ]
  },
  {
   "cell_type": "markdown",
   "metadata": {},
   "source": [
    "The endpoint takes 3 inputs, which are wrapped as parameters in this case to allow user choice: \n",
    "- 'model', allows the use of the following models:\n",
    "  - Lower quality, lower latency and cheaper tts-01 model ($15.00 / 1M characters)\n",
    "  - Higher quality, higher latency and more expensive tts-01-hd model ($30.00 / 1M characters)\n",
    "- 'voice', the API has 6 different voices\n",
    "  - alloy, echo, fable, onyx, nova, and shimmer\n",
    "- 'input', which in this case refers to the extracted corpus \n",
    "\n",
    "The response.stream_to_file() method then writes the TTS audio data to the 'speech.wav' file.\n",
    "\n",
    "In case the API throws an error, we can wrap the endpoint in a try/catch loop to return the error in a human readable format."
   ]
  },
  {
   "cell_type": "markdown",
   "metadata": {},
   "source": [
    "## Entry point/frontend"
   ]
  },
  {
   "cell_type": "markdown",
   "metadata": {},
   "source": [
    "Reference the .wav file in the repo to view the output."
   ]
  },
  {
   "cell_type": "code",
   "execution_count": null,
   "metadata": {},
   "outputs": [],
   "source": [
    "def main():\n",
    "    pdf_path = input(\"Enter the path to your PDF file: \")\n",
    "    text_inp = scrape_pdf(pdf_path)\n",
    "    token_count = len(text_inp)\n",
    "    print(\"Character count:\", token_count)\n",
    "    print(\"\\nEstimated cost of TTS (tts-1): $\", token_count * 0.000015)\n",
    "    print(\"\\nEstimated cost of TTS (tts-1-hd): $\", token_count * 0.00003)\n",
    "\n",
    "    while True:\n",
    "        model_choice = input(\"\\nChoose the TTS model (1 for tts-1, 2 for tts-1-hd): \")\n",
    "        if model_choice in ['1', '2']:\n",
    "            break\n",
    "        print(\"Invalid choice. Please enter 1 or 2.\")\n",
    "\n",
    "    oai_model = \"tts-1\" if model_choice == '1' else \"tts-1-hd\"\n",
    "    \n",
    "    voice_options = [\"alloy\", \"echo\", \"fable\", \"onyx\", \"nova\", \"shimmer\"]\n",
    "    print(\"\\nAvailable voices:\", \", \".join(voice_options))\n",
    "    print(\"For more information about the voices, visit:\\nhttps://platform.openai.com/docs/guides/text-to-speech/quickstart\")\n",
    "\n",
    "    while True:\n",
    "        oai_voice = input(\"\\nChoose a voice from the options above: \").lower()\n",
    "        if oai_voice in voice_options:\n",
    "            break\n",
    "        print(\"Invalid voice. Please choose from the available options.\")\n",
    "\n",
    "    print(f\"\\nGenerating TTS with model {oai_model} and voice {oai_voice}...\")\n",
    "    tts(oai_model, oai_voice, text_inp)\n",
    "    print(\"TTS generation complete. Audio saved as 'speech.wav'.\")\n",
    "\n",
    "if __name__ == \"__main__\":\n",
    "    main()"
   ]
  }
 ],
 "metadata": {
  "kernelspec": {
   "display_name": "venv",
   "language": "python",
   "name": "python3"
  },
  "language_info": {
   "codemirror_mode": {
    "name": "ipython",
    "version": 3
   },
   "file_extension": ".py",
   "mimetype": "text/x-python",
   "name": "python",
   "nbconvert_exporter": "python",
   "pygments_lexer": "ipython3",
   "version": "3.12.2"
  }
 },
 "nbformat": 4,
 "nbformat_minor": 2
}
