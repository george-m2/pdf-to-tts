{
 "cells": [
  {
   "cell_type": "markdown",
   "metadata": {},
   "source": [
    "# Using Google Cloud's TTS module to turn a *long form* PDF into audio"
   ]
  },
  {
   "cell_type": "markdown",
   "metadata": {},
   "source": [
    "## GCP set-up & module import"
   ]
  },
  {
   "cell_type": "code",
   "execution_count": 57,
   "metadata": {},
   "outputs": [],
   "source": [
    "import pymupdf\n",
    "import re\n",
    "import os\n",
    "from google.cloud import texttospeech"
   ]
  },
  {
   "cell_type": "markdown",
   "metadata": {},
   "source": [
    "To use the Google Cloud Platform (GCP) TTS module, we must set up a GCP console and project. <br>\n",
    "You will need the [Google Cloud CLI](https://cloud.google.com/sdk/docs/install) and a valid GCP account with the Text-to-Speech API module enabled. <br></br>\n",
    "For more infomation, visit the following links:<br>\n",
    "https://cloud.google.com/text-to-speech/docs/before-you-begin<br>\n",
    "https://cloud.google.com/text-to-speech?hl=en"
   ]
  },
  {
   "cell_type": "markdown",
   "metadata": {},
   "source": [
    "After setting up a GCP project, expose the application credentials to your shell, where:\n",
    "- 'gcp-auth.json' is the credential environment variable file, stored in JSON format\n",
    "- pdf-to-tts is the project name\n",
    "- Project ID can be found in the GCP console "
   ]
  },
  {
   "cell_type": "code",
   "execution_count": 58,
   "metadata": {
    "vscode": {
     "languageId": "shellscript"
    }
   },
   "outputs": [],
   "source": [
    "# gcloud iam service-accounts create pdf-to-tts\n",
    "# gcloud iam service-accounts keys create gcp-auth.json --iam-account pdf-to-tts@Project ID.iam.gserviceaccount.com\n",
    "# export GOOGLE_APPLICATION_CREDENTIALS='/path/to/your/client_secret.json'"
   ]
  },
  {
   "cell_type": "code",
   "execution_count": 59,
   "metadata": {
    "vscode": {
     "languageId": "shellscript"
    }
   },
   "outputs": [],
   "source": [
    "os.environ[\"GOOGLE_APPLICATION_CREDENTIALS\"] = \"auth.json\""
   ]
  },
  {
   "cell_type": "markdown",
   "metadata": {},
   "source": [
    "## PDF extraction and sanitation"
   ]
  },
  {
   "cell_type": "markdown",
   "metadata": {},
   "source": [
    "Scanned/image-based PDF's require Optical Character Recognition in order to handle the text in a PDF. \n",
    "\n",
    "We can use pymupdf to open the given file via the pymupdf.open(), then iteratively perform OCR extraction on each page via page.get_text()."
   ]
  },
  {
   "cell_type": "code",
   "execution_count": 60,
   "metadata": {},
   "outputs": [
    {
     "name": "stdout",
     "output_type": "stream",
     "text": [
      "Lorem ipsum dolor sit amet, consectetur adipiscing elit. Suspendisse non sem sem. Aenean sit amet bibendum sem. Nunc\n",
      "placerat placerat scelerisque. Integer bibendum ligula odio, consequat consectetur arcu faucibus id. Maecenas bibendum est\n",
      "augue, in molestie purus porttitor commodo. Orci varius natoque penatibus et magnis dis parturient montes, nascetur\n",
      "ridiculus mus. Donec gravida lectus massa, a malesuada turpis pulvinar id. Phasellus gravida semper mi, quis semper nunc\n",
      "porta eu. Vestibulum nec blandit mi, vitae suscipit sapien. Ut auctor consequat libero, quis malesuada diam tincidunt quis.\n",
      "Pellentesque vulputate ex venenatis lorem rhoncus tempus. In faucibus nisl augue. Ut diam turpis, fermentum sit amet\n",
      "finibus iaculis, luctus eu velit\n"
     ]
    }
   ],
   "source": [
    "def scrape_pdf(path):\n",
    "    corpus = \"\"\n",
    "    doc = pymupdf.open(path)\n",
    "    for page in doc:\n",
    "        corpus += page.get_text()\n",
    "    \n",
    "    print(corpus[0:750]) #truncated for readability \n",
    "\n",
    "scrape_pdf(\"input/tts-test.pdf\")"
   ]
  },
  {
   "cell_type": "markdown",
   "metadata": {},
   "source": [
    "As seen in the output, the text has been extracted with no lost or incorrect characters.\n",
    "\n",
    "However, this is not always the case. Given the nature of PDFs, is not guaranteed that OCR operations will be perfect, especially on scanned documents.\n",
    "\n",
    "If we were to convert this text output into audio, all characters, even incorrect ones, will be 'read' by the model, resulting in poor audio transcribing.\n",
    "\n",
    "We can demonstrate this by performing an OCR operation on a scanned textbook.<br>\n",
    "The output has broken characters and inconsistent line breaks."
   ]
  },
  {
   "cell_type": "code",
   "execution_count": 61,
   "metadata": {},
   "outputs": [
    {
     "name": "stdout",
     "output_type": "stream",
     "text": [
      "Individuals \n",
      "Is Politics Really \n",
      "About People? \n",
      "Barrie Axford \n",
      "Introduction \n",
      "In the Introduction to this volume we learned that the concepts and ideas \n",
      "which are at the heart of political study are themselves intellectual battle-\n",
      "grounds. Key terms like 'power' and 'freedom' are linguistic and often moral \n",
      "minefields over which the student of politics has to pass with great care, and it \n",
      "is easy to confuse or else conflate the normative with the empirical, or to \n",
      "transgress seeming rules about the basis of scientific inquiry. So in the study of \n",
      "policies \n",
      "very little can be taken for granted, and this caveat extends to what we \n",
      "study and how we study it. \n",
      "In this chapter we will begin our examination of the nature of political \n",
      "inquiry and the scope and content of politics by looking at the place of the \n",
      "individual in political life. The term 'individual' is in common use, so much \n",
      "so that we tend to take its meaning for 'granted. We are all individuals in the \n",
      "sense that we are single human animals, but while this is a necessary starting \n",
      "point for analysis, it is not sufficient t~ explain the importance of the concept \n",
      "in much political and social science. The idea of the individ\n"
     ]
    }
   ],
   "source": [
    "def scrape_pdf(path):\n",
    "    corpus = \"\"\n",
    "    doc = pymupdf.open(path)\n",
    "    for page in doc:\n",
    "        corpus += page.get_text()\n",
    "    return corpus\n",
    "\n",
    "corpus = scrape_pdf(\"input/scanned-tts-test.pdf\")\n",
    "print(corpus[0:1200]) #truncated for readability "
   ]
  },
  {
   "cell_type": "markdown",
   "metadata": {},
   "source": [
    "The text output can be sanitised using Regex. Whilst this will not fully fix the broken characters such as \"t~\", the audio output will be far more natural sounding. \n",
    "\n",
    "- The first regex expression removes standalone whole numbers, which removes page numbers, numbered captions etc..\n",
    "- The second expression removes lines that have TOC references, such as Contents and Chapter\n",
    "- Third expression removes whitespace (ensures natural sounding flow) and non alphanumeric characters \n",
    "- Fourth and fifth expressions collapses multiple consecutive whitespace characters (eg, paragraph breaks) to prevent unnatural and choppy transcription\n",
    "- Last expression ensures that there is a full stop followed by a space between a lowercase letter and an uppercase letter to offset lost punctuation from the OCR process"
   ]
  },
  {
   "cell_type": "code",
   "execution_count": 62,
   "metadata": {},
   "outputs": [],
   "source": [
    "def clean_tts(text):\n",
    "    text = re.sub(r'\\b\\d+\\b', '', text)\n",
    "    text = re.sub(r'\\b(CONTENTS|Chapter|Section)\\b.*?\\n', '', text, flags=re.IGNORECASE)\n",
    "    text = re.sub(r'[^\\w\\s.,!?-]', ' ', text)\n",
    "    text = re.sub(r'\\s+', ' ', text)\n",
    "    text = text.strip()\n",
    "    text = '. '.join(sentence.capitalize() for sentence in text.split('. '))\n",
    "    text = re.sub(r'([a-z])\\s([A-Z])', r'\\1. \\2', text)\n",
    "    return text"
   ]
  },
  {
   "cell_type": "code",
   "execution_count": 63,
   "metadata": {},
   "outputs": [
    {
     "name": "stdout",
     "output_type": "stream",
     "text": [
      "Individuals is politics really about people? barrie axford introduction in the introduction to this volume we learned that the concepts and ideas which are at the heart of political study are themselves intellectual battle- grounds. Key terms like power and freedom are linguistic and often moral minefields over which the student of politics has to pass with great care, and it is easy to confuse or else conflate the normative with the empirical, or to transgress seeming rules about the basis of s\n"
     ]
    }
   ],
   "source": [
    "print(clean_tts(corpus)[0:500])"
   ]
  },
  {
   "cell_type": "markdown",
   "metadata": {},
   "source": [
    "## TTS generation"
   ]
  },
  {
   "cell_type": "markdown",
   "metadata": {},
   "source": [
    "We can leverage the texttospeech class from the `google.cloud` module:\n",
    "- The `TextToSpeechClient` object is used to interact with the Google Cloud Text-to-Speech API\n",
    "- SynthesisInput object encapsulates the input text that needs to be synthesized into speech\n",
    "- VoiceSelectionParams object encapsulates the language code, voice name, and SSML gender\n",
    "- AudioConfig object specifies the audio encoding format (MP3 default)\n",
    "  \n",
    "To call the TTS module from GCP, we call the `synthesize_speech()` method on the client object."
   ]
  },
  {
   "cell_type": "code",
   "execution_count": 64,
   "metadata": {},
   "outputs": [],
   "source": [
    "def gcp_tts(text, output_file, language_code='en-gb', voice_name='en-GB-Standard-A', ssml_gender='FEMALE'):\n",
    "    client = texttospeech.TextToSpeechClient()\n",
    "    input_text = texttospeech.SynthesisInput(text=text)\n",
    "    voice = texttospeech.VoiceSelectionParams(\n",
    "        language_code=language_code,\n",
    "        name=voice_name,\n",
    "        ssml_gender=texttospeech.SsmlVoiceGender[ssml_gender]\n",
    "    )\n",
    "    audio_config = texttospeech.AudioConfig(\n",
    "        audio_encoding=texttospeech.AudioEncoding.MP3\n",
    "    )\n",
    "    try:\n",
    "        response = client.synthesize_speech(\n",
    "            request={\"input\": input_text, \"voice\": voice, \"audio_config\": audio_config}\n",
    "        )\n",
    "        with open(output_file, \"wb\") as out:\n",
    "            out.write(response.audio_content)\n",
    "        print(f'Audio content written to file \"{output_file}\"')\n",
    "        return True\n",
    "    except Exception as e:\n",
    "        print(f\"Error: An unexpected error occurred: {str(e)}\")\n",
    "        return False"
   ]
  },
  {
   "cell_type": "markdown",
   "metadata": {},
   "source": [
    "\n",
    "The function takes several parameters:\n",
    "- text: The input text scraped from the PDF that needs to be converted into speech.\n",
    "- output_file: The file path where the generated audio content will be saved.\n",
    "  - The default audio output type is MP3\n",
    "- language_code: The language code for the desired voice. The default value is 'en-gb' (No.1). Other supported codes include:\n",
    "  - en-US(2)\n",
    "  - fr-FR(3)\n",
    "  - de-DE(4)\n",
    "  - es-ES(5)\n",
    "- voice_name: The name of the voice to be used. The default value is 'en-GB-Standard-A'.\n",
    "  - To view other voices, [call the `voices:list` endpoint](https://cloud.google.com/text-to-speech/docs/list-voices), where `PROJECT_ID` refers to your project ID <br>\n",
    "  - `curl -H \"Authorization: Bearer $(gcloud auth print-access-token)\" \\\n",
    "    -H \"x-goog-user-project: PROJECT_ID\" \\\n",
    "    -H \"Content-Type: application/json; charset=utf-8\" \\\n",
    "    \"https://texttospeech.googleapis.com/v1/voices\"`\n",
    "- ssml_gender: The gender of the voice. The default value is 'FEMALE'.\n",
    "  - One of \"male\", \"female\" or \"neutral\""
   ]
  },
  {
   "cell_type": "markdown",
   "metadata": {},
   "source": [
    "## Entry point"
   ]
  },
  {
   "cell_type": "markdown",
   "metadata": {},
   "source": [
    "Reference `gcp_tts_output.mp3` in the repo for output."
   ]
  },
  {
   "cell_type": "code",
   "execution_count": 65,
   "metadata": {},
   "outputs": [
    {
     "name": "stdout",
     "output_type": "stream",
     "text": [
      "Character count: 4007\n",
      "\n",
      "Google Cloud TTS selected.\n",
      "\n",
      "Available languages:\n",
      "1: English (US)\n",
      "2: English (UK)\n",
      "3: French\n",
      "4: German\n",
      "5: Spanish\n",
      "Audio content written to file \"gcp_tts_output.mp3\"\n",
      "TTS conversion completed successfully. Output saved to gcp_tts_output.mp3\n"
     ]
    }
   ],
   "source": [
    "def main():\n",
    "    text_inp = scrape_pdf(\"input/tts-test.pdf\")\n",
    "    token_count = len(text_inp)\n",
    "    print(\"Character count:\", token_count)\n",
    "    print(\"\\nGoogle Cloud TTS selected.\")\n",
    "    language_options = {\n",
    "        '1': ('en-US', 'English (US)'),\n",
    "        '2': ('en-GB', 'English (UK)'),\n",
    "        '3': ('fr-FR', 'French'),\n",
    "        '4': ('de-DE', 'German'),\n",
    "        '5': ('es-ES', 'Spanish')\n",
    "    }\n",
    "    print(\"\\nAvailable languages:\")\n",
    "    for key, (code, name) in language_options.items():\n",
    "        print(f\"{key}: {name}\")\n",
    "\n",
    "    while True:\n",
    "        lang_choice = input(\"Choose a language (1-5): \")\n",
    "        # '1': ('en-US', 'English (US)'),\n",
    "        # '2': ('en-GB', 'English (UK)'),\n",
    "        # '3': ('fr-FR', 'French'),\n",
    "        # '4': ('de-DE', 'German'),\n",
    "        # '5': ('es-ES', 'Spanish')\n",
    "        if lang_choice in language_options:\n",
    "            language_code = language_options[lang_choice][0]\n",
    "            break\n",
    "        print(\"Invalid choice. Please enter a number between 1 and 5.\")\n",
    "\n",
    "    voice_name = f'{language_code}-Standard-A'\n",
    "\n",
    "    while True:\n",
    "        gender_choice = input(\"\\nChoose voice gender (M for Male, F for Female): \").upper()\n",
    "        if gender_choice in ['M', 'F']:\n",
    "            ssml_gender = 'MALE' if gender_choice == 'M' else 'FEMALE'\n",
    "            break\n",
    "        print(\"Invalid choice. Please enter M or F.\")\n",
    "\n",
    "    output_file = \"gcp_tts_output.mp3\"\n",
    "\n",
    "    success = gcp_tts(text_inp, output_file, language_code, voice_name, ssml_gender)\n",
    "    if success:\n",
    "        print(f\"TTS conversion completed successfully. Output saved to {output_file}\")\n",
    "    else:\n",
    "        print(\"TTS conversion failed.\")\n",
    "\n",
    "if __name__ == \"__main__\":\n",
    "    main()"
   ]
  }
 ],
 "metadata": {
  "kernelspec": {
   "display_name": "venv",
   "language": "python",
   "name": "python3"
  },
  "language_info": {
   "codemirror_mode": {
    "name": "ipython",
    "version": 3
   },
   "file_extension": ".py",
   "mimetype": "text/x-python",
   "name": "python",
   "nbconvert_exporter": "python",
   "pygments_lexer": "ipython3",
   "version": "3.12.2"
  }
 },
 "nbformat": 4,
 "nbformat_minor": 2
}
